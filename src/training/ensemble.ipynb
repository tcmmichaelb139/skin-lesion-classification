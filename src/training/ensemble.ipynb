{
 "cells": [
  {
   "cell_type": "code",
   "execution_count": 1,
   "metadata": {
    "tags": []
   },
   "outputs": [
    {
     "data": {
      "text/plain": [
       "device(type='cuda')"
      ]
     },
     "execution_count": 1,
     "metadata": {},
     "output_type": "execute_result"
    }
   ],
   "source": [
    "import pandas as pd\n",
    "import numpy as np\n",
    "import matplotlib.pyplot as plt\n",
    "import seaborn as sns\n",
    "from tqdm import tqdm\n",
    "import torch\n",
    "import torchvision\n",
    "import torchvision.transforms.v2 as v2\n",
    "import torchvision.transforms.functional as F\n",
    "from torch.utils.data import DataLoader, Dataset\n",
    "from torchvision.datasets import ImageFolder\n",
    "\n",
    "import warnings\n",
    "\n",
    "warnings.simplefilter(\"ignore\")\n",
    "\n",
    "seed = 42\n",
    "np.random.seed(seed)\n",
    "torch.manual_seed(seed)\n",
    "torch.cuda.manual_seed(seed)\n",
    "torch.backends.cudnn.deterministic = True\n",
    "torch.backends.cudnn.benchmark = False\n",
    "\n",
    "device = torch.device(\"cuda\" if torch.cuda.is_available() else \"cpu\")\n",
    "device"
   ]
  },
  {
   "cell_type": "code",
   "execution_count": 2,
   "metadata": {},
   "outputs": [],
   "source": [
    "EPOCHS = 75\n",
    "PATIENCE = 10\n",
    "LEARNING_RATE = 0.0001\n",
    "WEIGHT_DECAY = 0.0001"
   ]
  },
  {
   "cell_type": "code",
   "execution_count": 3,
   "metadata": {
    "tags": []
   },
   "outputs": [],
   "source": [
    "def augmentation(img):\n",
    "    aug = v2.TrivialAugmentWide()    \n",
    "    \n",
    "    return aug(img)\n",
    "\n",
    "def preprocessing(img):\n",
    "    img = img/255.0\n",
    "    \n",
    "    pre = v2.Normalize(mean=[0.485, 0.456, 0.406], std=[0.229, 0.224, 0.225])\n",
    "\n",
    "    return pre(img)\n",
    "\n",
    "def train_transform(img):\n",
    "    img = preprocessing(img)\n",
    "    img = augmentation(img)\n",
    "        \n",
    "    return img\n",
    "\n",
    "def create_dataset(file_dir):\n",
    "    dataset = {}\n",
    "    dataset[\"train\"] = ImageFolder(\n",
    "        root = f\"{file_dir}/train/\",\n",
    "        loader = torchvision.io.read_image,\n",
    "        transform=train_transform\n",
    "    )\n",
    "    dataset[\"val\"] = ImageFolder(\n",
    "        root = f\"{file_dir}/val/\",\n",
    "        loader = torchvision.io.read_image,\n",
    "        transform=preprocessing\n",
    "    )\n",
    "    dataset[\"test\"] = ImageFolder(\n",
    "        root = f\"{file_dir}/test/\",\n",
    "        loader = torchvision.io.read_image,\n",
    "        transform=preprocessing\n",
    "    )\n",
    "    \n",
    "    return dataset\n",
    "    \n",
    "dataset = create_dataset(\"./datasets\")"
   ]
  },
  {
   "cell_type": "code",
   "execution_count": 4,
   "metadata": {
    "tags": []
   },
   "outputs": [
    {
     "name": "stdout",
     "output_type": "stream",
     "text": [
      "Length of train dataloader:  955\n",
      "Length of val dataloader:  97\n",
      "Length of test dataloader:  97\n"
     ]
    }
   ],
   "source": [
    "dataloader = dict()\n",
    "dataloader[\"train\"] = DataLoader(dataset[\"train\"], batch_size=32, shuffle=True)\n",
    "dataloader[\"val\"] = DataLoader(dataset[\"val\"], batch_size=32, shuffle=True)\n",
    "dataloader[\"test\"] = DataLoader(dataset[\"test\"], batch_size=32, shuffle=False)\n",
    "print(\"Length of train dataloader: \", len(dataloader[\"train\"]))\n",
    "print(\"Length of val dataloader: \", len(dataloader[\"val\"]))\n",
    "print(\"Length of test dataloader: \", len(dataloader[\"test\"]))"
   ]
  },
  {
   "cell_type": "code",
   "execution_count": 5,
   "metadata": {
    "tags": []
   },
   "outputs": [],
   "source": [
    "import torch.nn as nn\n",
    "import copy\n",
    "\n",
    "class JointModel(nn.Module):\n",
    "    def __init__(self, model):\n",
    "        super().__init__()\n",
    "\n",
    "        self.name = model\n",
    "\n",
    "        model = torchvision.models.get_model(model, weights=\"DEFAULT\")\n",
    "\n",
    "        self.m = copy.deepcopy(model)\n",
    "\n",
    "        self.ffnn = nn.Sequential(\n",
    "            nn.Linear(1000, 512),\n",
    "            nn.ReLU(),\n",
    "            nn.Dropout(),\n",
    "        )\n",
    "\n",
    "        self.classifier = nn.Linear(512, 5)\n",
    "\n",
    "    def forward(self, x):\n",
    "        x = self.m(x)\n",
    "    \n",
    "        ret = self.ffnn(x)\n",
    "        ret = self.classifier(ret)\n",
    "\n",
    "        return ret\n",
    "\n",
    "models = [\n",
    "    JointModel(model=\"shufflenet_v2_x2_0\"),\n",
    "    JointModel(model=\"convnext_tiny\"),\n",
    "    JointModel(model=\"efficientnet_v2_s\"),\n",
    "]\n",
    "\n",
    "for i in range(len(models)):\n",
    "    models[i] = models[i].to(device)"
   ]
  },
  {
   "cell_type": "code",
   "execution_count": 6,
   "metadata": {},
   "outputs": [],
   "source": [
    "from sklearn import metrics\n",
    "\n",
    "def validation(model, validloader, criterion):\n",
    "    model.eval()\n",
    "    actual = []\n",
    "    prediction = []\n",
    "    \n",
    "    with torch.no_grad():\n",
    "        for images, labels in tqdm(validloader):\n",
    "            images = images.to(device)\n",
    "            labels = labels.to(device)\n",
    "            output = model(images)\n",
    "            actual.append(labels)\n",
    "            prediction.append(output.max(dim=1)[1])\n",
    "            \n",
    "    actual = torch.concat(actual).cpu()\n",
    "    prediction = torch.concat(prediction).cpu()\n",
    "    \n",
    "    val_accuracy = metrics.accuracy_score(actual, prediction)\n",
    "    val_recall = metrics.recall_score(actual, prediction, average='macro')\n",
    "\n",
    "    return val_accuracy, val_recall"
   ]
  },
  {
   "cell_type": "code",
   "execution_count": 7,
   "metadata": {},
   "outputs": [],
   "source": [
    "def train(model, trainloader, validloader, optimizer, criterion, num_epochs, patience, save_loc):\n",
    "    all_train_loss, all_train_accuracy, all_val_accuracy, all_val_recall = [], [], [], []\n",
    "\n",
    "    num_since_best = 0\n",
    "\n",
    "    best_accuracy = 0\n",
    "    \n",
    "    for epoch in range(num_epochs):\n",
    "\n",
    "        model.train()\n",
    "\n",
    "        train_loss = 0\n",
    "        train_accuracy = 0\n",
    "\n",
    "        for images, labels in tqdm(trainloader):\n",
    "            images = images.to(device)\n",
    "            labels = labels.to(device)\n",
    "\n",
    "            optimizer.zero_grad()\n",
    "            outputs = model(images)\n",
    "            loss = criterion(outputs, labels)\n",
    "            loss.backward()\n",
    "            optimizer.step()\n",
    "\n",
    "            train_loss += loss.item()\n",
    "            train_accuracy += (\n",
    "                (labels.data == outputs.max(dim=1)[1]).type(torch.FloatTensor).mean()\n",
    "            )\n",
    "\n",
    "        train_loss /= len(trainloader)\n",
    "        train_accuracy /= len(trainloader)\n",
    "\n",
    "        val_accuracy, val_recall = validation(model, validloader, criterion)\n",
    "\n",
    "        print(\n",
    "            f\"Epoch {epoch+1}/{num_epochs}... \",\n",
    "            f\"Train loss: {train_loss:.5f}... \",\n",
    "            f\"Train accuracy: {train_accuracy:.5f}... \",\n",
    "            f\"Validation accuracy: {val_accuracy:.5f}... \",\n",
    "            f\"Validation recall: {val_recall:.5f}... \",\n",
    "        )\n",
    "\n",
    "        if epoch == 0 or best_accuracy < val_accuracy:\n",
    "            torch.save(model.state_dict(), save_loc)\n",
    "            best_accuracy = val_accuracy\n",
    "            print(\"New best model found\")\n",
    "            num_since_best = 0\n",
    "        else:\n",
    "            num_since_best += 1\n",
    "\n",
    "        if num_since_best >= patience:\n",
    "            break\n",
    "\n",
    "        all_train_loss.append(train_loss)\n",
    "        all_train_accuracy.append(train_accuracy)\n",
    "        all_val_accuracy.append(val_accuracy)\n",
    "        all_val_recall.append(val_recall)\n",
    "\n",
    "    return all_train_loss, all_train_accuracy, all_val_accuracy, all_val_recall"
   ]
  },
  {
   "cell_type": "code",
   "execution_count": 8,
   "metadata": {
    "tags": []
   },
   "outputs": [
    {
     "name": "stdout",
     "output_type": "stream",
     "text": [
      "shufflenet_v2_x2_0\n"
     ]
    },
    {
     "name": "stderr",
     "output_type": "stream",
     "text": [
      "100%|██████████| 955/955 [03:34<00:00,  4.44it/s]\n",
      "100%|██████████| 97/97 [00:10<00:00,  9.46it/s]\n"
     ]
    },
    {
     "name": "stdout",
     "output_type": "stream",
     "text": [
      "Epoch 1/75...  Train loss: 0.91529...  Train accuracy: 0.63821...  Validation accuracy: 0.75567...  Validation recall: 0.62051... \n",
      "New best model found\n"
     ]
    },
    {
     "name": "stderr",
     "output_type": "stream",
     "text": [
      "100%|██████████| 955/955 [03:24<00:00,  4.66it/s]\n",
      "100%|██████████| 97/97 [00:09<00:00, 10.34it/s]\n"
     ]
    },
    {
     "name": "stdout",
     "output_type": "stream",
     "text": [
      "Epoch 2/75...  Train loss: 0.71977...  Train accuracy: 0.72005...  Validation accuracy: 0.78386...  Validation recall: 0.68368... \n",
      "New best model found\n"
     ]
    },
    {
     "name": "stderr",
     "output_type": "stream",
     "text": [
      "100%|██████████| 955/955 [03:29<00:00,  4.56it/s]\n",
      "100%|██████████| 97/97 [00:10<00:00,  9.56it/s]\n"
     ]
    },
    {
     "name": "stdout",
     "output_type": "stream",
     "text": [
      "Epoch 3/75...  Train loss: 0.60907...  Train accuracy: 0.76472...  Validation accuracy: 0.79391...  Validation recall: 0.68422... \n",
      "New best model found\n"
     ]
    },
    {
     "name": "stderr",
     "output_type": "stream",
     "text": [
      "100%|██████████| 955/955 [03:27<00:00,  4.61it/s]\n",
      "100%|██████████| 97/97 [00:09<00:00, 10.10it/s]\n"
     ]
    },
    {
     "name": "stdout",
     "output_type": "stream",
     "text": [
      "Epoch 4/75...  Train loss: 0.53657...  Train accuracy: 0.79345...  Validation accuracy: 0.80719...  Validation recall: 0.71412... \n",
      "New best model found\n"
     ]
    },
    {
     "name": "stderr",
     "output_type": "stream",
     "text": [
      "100%|██████████| 955/955 [03:36<00:00,  4.41it/s]\n",
      "100%|██████████| 97/97 [00:09<00:00, 10.04it/s]\n"
     ]
    },
    {
     "name": "stdout",
     "output_type": "stream",
     "text": [
      "Epoch 5/75...  Train loss: 0.47330...  Train accuracy: 0.81992...  Validation accuracy: 0.80881...  Validation recall: 0.67101... \n",
      "New best model found\n"
     ]
    },
    {
     "name": "stderr",
     "output_type": "stream",
     "text": [
      "100%|██████████| 955/955 [03:26<00:00,  4.63it/s]\n",
      "100%|██████████| 97/97 [00:09<00:00,  9.79it/s]\n"
     ]
    },
    {
     "name": "stdout",
     "output_type": "stream",
     "text": [
      "Epoch 6/75...  Train loss: 0.42972...  Train accuracy: 0.83491...  Validation accuracy: 0.81335...  Validation recall: 0.70071... \n",
      "New best model found\n"
     ]
    },
    {
     "name": "stderr",
     "output_type": "stream",
     "text": [
      "100%|██████████| 955/955 [03:27<00:00,  4.61it/s]\n",
      "100%|██████████| 97/97 [00:09<00:00, 10.26it/s]\n"
     ]
    },
    {
     "name": "stdout",
     "output_type": "stream",
     "text": [
      "Epoch 7/75...  Train loss: 0.39964...  Train accuracy: 0.84813...  Validation accuracy: 0.81951...  Validation recall: 0.71588... \n",
      "New best model found\n"
     ]
    },
    {
     "name": "stderr",
     "output_type": "stream",
     "text": [
      "100%|██████████| 955/955 [03:29<00:00,  4.55it/s]\n",
      "100%|██████████| 97/97 [00:09<00:00, 10.27it/s]\n"
     ]
    },
    {
     "name": "stdout",
     "output_type": "stream",
     "text": [
      "Epoch 8/75...  Train loss: 0.36432...  Train accuracy: 0.86230...  Validation accuracy: 0.83020...  Validation recall: 0.71815... \n",
      "New best model found\n"
     ]
    },
    {
     "name": "stderr",
     "output_type": "stream",
     "text": [
      "100%|██████████| 955/955 [03:29<00:00,  4.55it/s]\n",
      "100%|██████████| 97/97 [00:10<00:00,  9.34it/s]\n"
     ]
    },
    {
     "name": "stdout",
     "output_type": "stream",
     "text": [
      "Epoch 9/75...  Train loss: 0.34188...  Train accuracy: 0.87009...  Validation accuracy: 0.82404...  Validation recall: 0.72097... \n"
     ]
    },
    {
     "name": "stderr",
     "output_type": "stream",
     "text": [
      "100%|██████████| 955/955 [03:25<00:00,  4.64it/s]\n",
      "100%|██████████| 97/97 [00:09<00:00, 10.30it/s]\n"
     ]
    },
    {
     "name": "stdout",
     "output_type": "stream",
     "text": [
      "Epoch 10/75...  Train loss: 0.31759...  Train accuracy: 0.88020...  Validation accuracy: 0.83539...  Validation recall: 0.74014... \n",
      "New best model found\n"
     ]
    },
    {
     "name": "stderr",
     "output_type": "stream",
     "text": [
      "100%|██████████| 955/955 [03:28<00:00,  4.58it/s]\n",
      "100%|██████████| 97/97 [00:10<00:00,  9.69it/s]\n"
     ]
    },
    {
     "name": "stdout",
     "output_type": "stream",
     "text": [
      "Epoch 11/75...  Train loss: 0.29810...  Train accuracy: 0.88694...  Validation accuracy: 0.84219...  Validation recall: 0.73595... \n",
      "New best model found\n"
     ]
    },
    {
     "name": "stderr",
     "output_type": "stream",
     "text": [
      "100%|██████████| 955/955 [03:24<00:00,  4.67it/s]\n",
      "100%|██████████| 97/97 [00:09<00:00, 10.59it/s]\n"
     ]
    },
    {
     "name": "stdout",
     "output_type": "stream",
     "text": [
      "Epoch 12/75...  Train loss: 0.28393...  Train accuracy: 0.89329...  Validation accuracy: 0.81918...  Validation recall: 0.71034... \n"
     ]
    },
    {
     "name": "stderr",
     "output_type": "stream",
     "text": [
      "100%|██████████| 955/955 [03:25<00:00,  4.65it/s]\n",
      "100%|██████████| 97/97 [00:09<00:00, 10.39it/s]\n"
     ]
    },
    {
     "name": "stdout",
     "output_type": "stream",
     "text": [
      "Epoch 13/75...  Train loss: 0.27740...  Train accuracy: 0.89708...  Validation accuracy: 0.84608...  Validation recall: 0.77110... \n",
      "New best model found\n"
     ]
    },
    {
     "name": "stderr",
     "output_type": "stream",
     "text": [
      "100%|██████████| 955/955 [03:24<00:00,  4.66it/s]\n",
      "100%|██████████| 97/97 [00:09<00:00, 10.21it/s]\n"
     ]
    },
    {
     "name": "stdout",
     "output_type": "stream",
     "text": [
      "Epoch 14/75...  Train loss: 0.25792...  Train accuracy: 0.90481...  Validation accuracy: 0.84413...  Validation recall: 0.73649... \n"
     ]
    },
    {
     "name": "stderr",
     "output_type": "stream",
     "text": [
      "100%|██████████| 955/955 [03:26<00:00,  4.62it/s]\n",
      "100%|██████████| 97/97 [00:09<00:00, 10.72it/s]\n"
     ]
    },
    {
     "name": "stdout",
     "output_type": "stream",
     "text": [
      "Epoch 15/75...  Train loss: 0.24912...  Train accuracy: 0.90831...  Validation accuracy: 0.84446...  Validation recall: 0.73782... \n"
     ]
    },
    {
     "name": "stderr",
     "output_type": "stream",
     "text": [
      "100%|██████████| 955/955 [03:30<00:00,  4.53it/s]\n",
      "100%|██████████| 97/97 [00:09<00:00, 10.74it/s]\n"
     ]
    },
    {
     "name": "stdout",
     "output_type": "stream",
     "text": [
      "Epoch 16/75...  Train loss: 0.23355...  Train accuracy: 0.91299...  Validation accuracy: 0.84705...  Validation recall: 0.71590... \n",
      "New best model found\n"
     ]
    },
    {
     "name": "stderr",
     "output_type": "stream",
     "text": [
      "100%|██████████| 955/955 [03:28<00:00,  4.58it/s]\n",
      "100%|██████████| 97/97 [00:09<00:00, 10.03it/s]\n"
     ]
    },
    {
     "name": "stdout",
     "output_type": "stream",
     "text": [
      "Epoch 17/75...  Train loss: 0.22237...  Train accuracy: 0.91845...  Validation accuracy: 0.84122...  Validation recall: 0.74067... \n"
     ]
    },
    {
     "name": "stderr",
     "output_type": "stream",
     "text": [
      "100%|██████████| 955/955 [03:30<00:00,  4.54it/s]\n",
      "100%|██████████| 97/97 [00:09<00:00,  9.83it/s]\n"
     ]
    },
    {
     "name": "stdout",
     "output_type": "stream",
     "text": [
      "Epoch 18/75...  Train loss: 0.21749...  Train accuracy: 0.92081...  Validation accuracy: 0.84640...  Validation recall: 0.72049... \n"
     ]
    },
    {
     "name": "stderr",
     "output_type": "stream",
     "text": [
      "100%|██████████| 955/955 [03:30<00:00,  4.55it/s]\n",
      "100%|██████████| 97/97 [00:09<00:00, 10.04it/s]\n"
     ]
    },
    {
     "name": "stdout",
     "output_type": "stream",
     "text": [
      "Epoch 19/75...  Train loss: 0.21170...  Train accuracy: 0.92189...  Validation accuracy: 0.84187...  Validation recall: 0.75903... \n"
     ]
    },
    {
     "name": "stderr",
     "output_type": "stream",
     "text": [
      "100%|██████████| 955/955 [03:26<00:00,  4.62it/s]\n",
      "100%|██████████| 97/97 [00:08<00:00, 10.99it/s]\n"
     ]
    },
    {
     "name": "stdout",
     "output_type": "stream",
     "text": [
      "Epoch 20/75...  Train loss: 0.19978...  Train accuracy: 0.92853...  Validation accuracy: 0.84154...  Validation recall: 0.73815... \n"
     ]
    },
    {
     "name": "stderr",
     "output_type": "stream",
     "text": [
      "100%|██████████| 955/955 [03:27<00:00,  4.61it/s]\n",
      "100%|██████████| 97/97 [00:09<00:00, 10.13it/s]\n"
     ]
    },
    {
     "name": "stdout",
     "output_type": "stream",
     "text": [
      "Epoch 21/75...  Train loss: 0.19688...  Train accuracy: 0.92824...  Validation accuracy: 0.85191...  Validation recall: 0.74489... \n",
      "New best model found\n"
     ]
    },
    {
     "name": "stderr",
     "output_type": "stream",
     "text": [
      "100%|██████████| 955/955 [03:25<00:00,  4.64it/s]\n",
      "100%|██████████| 97/97 [00:09<00:00,  9.83it/s]\n"
     ]
    },
    {
     "name": "stdout",
     "output_type": "stream",
     "text": [
      "Epoch 22/75...  Train loss: 0.19528...  Train accuracy: 0.92896...  Validation accuracy: 0.84608...  Validation recall: 0.75603... \n"
     ]
    },
    {
     "name": "stderr",
     "output_type": "stream",
     "text": [
      "100%|██████████| 955/955 [03:27<00:00,  4.61it/s]\n",
      "100%|██████████| 97/97 [00:09<00:00, 10.52it/s]\n"
     ]
    },
    {
     "name": "stdout",
     "output_type": "stream",
     "text": [
      "Epoch 23/75...  Train loss: 0.18508...  Train accuracy: 0.93194...  Validation accuracy: 0.84738...  Validation recall: 0.73454... \n"
     ]
    },
    {
     "name": "stderr",
     "output_type": "stream",
     "text": [
      "100%|██████████| 955/955 [03:24<00:00,  4.67it/s]\n",
      "100%|██████████| 97/97 [00:09<00:00, 10.62it/s]\n"
     ]
    },
    {
     "name": "stdout",
     "output_type": "stream",
     "text": [
      "Epoch 24/75...  Train loss: 0.17895...  Train accuracy: 0.93494...  Validation accuracy: 0.83571...  Validation recall: 0.75243... \n"
     ]
    },
    {
     "name": "stderr",
     "output_type": "stream",
     "text": [
      "100%|██████████| 955/955 [03:26<00:00,  4.62it/s]\n",
      "100%|██████████| 97/97 [00:09<00:00, 10.49it/s]\n"
     ]
    },
    {
     "name": "stdout",
     "output_type": "stream",
     "text": [
      "Epoch 25/75...  Train loss: 0.17871...  Train accuracy: 0.93452...  Validation accuracy: 0.84997...  Validation recall: 0.73428... \n"
     ]
    },
    {
     "name": "stderr",
     "output_type": "stream",
     "text": [
      "100%|██████████| 955/955 [03:27<00:00,  4.61it/s]\n",
      "100%|██████████| 97/97 [00:09<00:00, 10.43it/s]\n"
     ]
    },
    {
     "name": "stdout",
     "output_type": "stream",
     "text": [
      "Epoch 26/75...  Train loss: 0.17214...  Train accuracy: 0.93763...  Validation accuracy: 0.84867...  Validation recall: 0.74627... \n"
     ]
    },
    {
     "name": "stderr",
     "output_type": "stream",
     "text": [
      "100%|██████████| 955/955 [03:24<00:00,  4.66it/s]\n",
      "100%|██████████| 97/97 [00:09<00:00, 10.50it/s]\n"
     ]
    },
    {
     "name": "stdout",
     "output_type": "stream",
     "text": [
      "Epoch 27/75...  Train loss: 0.16731...  Train accuracy: 0.93799...  Validation accuracy: 0.84316...  Validation recall: 0.75485... \n"
     ]
    },
    {
     "name": "stderr",
     "output_type": "stream",
     "text": [
      "100%|██████████| 955/955 [03:25<00:00,  4.64it/s]\n",
      "100%|██████████| 97/97 [00:09<00:00, 10.56it/s]\n"
     ]
    },
    {
     "name": "stdout",
     "output_type": "stream",
     "text": [
      "Epoch 28/75...  Train loss: 0.16721...  Train accuracy: 0.93858...  Validation accuracy: 0.84802...  Validation recall: 0.75298... \n"
     ]
    },
    {
     "name": "stderr",
     "output_type": "stream",
     "text": [
      "100%|██████████| 955/955 [03:25<00:00,  4.65it/s]\n",
      "100%|██████████| 97/97 [00:09<00:00,  9.84it/s]\n"
     ]
    },
    {
     "name": "stdout",
     "output_type": "stream",
     "text": [
      "Epoch 29/75...  Train loss: 0.15993...  Train accuracy: 0.94215...  Validation accuracy: 0.85321...  Validation recall: 0.75186... \n",
      "New best model found\n"
     ]
    },
    {
     "name": "stderr",
     "output_type": "stream",
     "text": [
      "100%|██████████| 955/955 [03:25<00:00,  4.65it/s]\n",
      "100%|██████████| 97/97 [00:09<00:00, 10.54it/s]\n"
     ]
    },
    {
     "name": "stdout",
     "output_type": "stream",
     "text": [
      "Epoch 30/75...  Train loss: 0.16196...  Train accuracy: 0.94182...  Validation accuracy: 0.84997...  Validation recall: 0.74453... \n"
     ]
    },
    {
     "name": "stderr",
     "output_type": "stream",
     "text": [
      "100%|██████████| 955/955 [03:30<00:00,  4.54it/s]\n",
      "100%|██████████| 97/97 [00:09<00:00,  9.78it/s]\n"
     ]
    },
    {
     "name": "stdout",
     "output_type": "stream",
     "text": [
      "Epoch 31/75...  Train loss: 0.15321...  Train accuracy: 0.94434...  Validation accuracy: 0.85321...  Validation recall: 0.75435... \n"
     ]
    },
    {
     "name": "stderr",
     "output_type": "stream",
     "text": [
      "100%|██████████| 955/955 [03:25<00:00,  4.64it/s]\n",
      "100%|██████████| 97/97 [00:09<00:00, 10.25it/s]\n"
     ]
    },
    {
     "name": "stdout",
     "output_type": "stream",
     "text": [
      "Epoch 32/75...  Train loss: 0.15463...  Train accuracy: 0.94450...  Validation accuracy: 0.85353...  Validation recall: 0.72414... \n",
      "New best model found\n"
     ]
    },
    {
     "name": "stderr",
     "output_type": "stream",
     "text": [
      "100%|██████████| 955/955 [03:27<00:00,  4.59it/s]\n",
      "100%|██████████| 97/97 [00:09<00:00,  9.71it/s]\n"
     ]
    },
    {
     "name": "stdout",
     "output_type": "stream",
     "text": [
      "Epoch 33/75...  Train loss: 0.15273...  Train accuracy: 0.94372...  Validation accuracy: 0.85321...  Validation recall: 0.75029... \n"
     ]
    },
    {
     "name": "stderr",
     "output_type": "stream",
     "text": [
      "100%|██████████| 955/955 [03:25<00:00,  4.65it/s]\n",
      "100%|██████████| 97/97 [00:09<00:00, 10.41it/s]\n"
     ]
    },
    {
     "name": "stdout",
     "output_type": "stream",
     "text": [
      "Epoch 34/75...  Train loss: 0.14661...  Train accuracy: 0.94787...  Validation accuracy: 0.84543...  Validation recall: 0.74483... \n"
     ]
    },
    {
     "name": "stderr",
     "output_type": "stream",
     "text": [
      "100%|██████████| 955/955 [03:27<00:00,  4.60it/s]\n",
      "100%|██████████| 97/97 [00:11<00:00,  8.15it/s]\n"
     ]
    },
    {
     "name": "stdout",
     "output_type": "stream",
     "text": [
      "Epoch 35/75...  Train loss: 0.14622...  Train accuracy: 0.94813...  Validation accuracy: 0.84932...  Validation recall: 0.73683... \n"
     ]
    },
    {
     "name": "stderr",
     "output_type": "stream",
     "text": [
      "100%|██████████| 955/955 [03:33<00:00,  4.47it/s]\n",
      "100%|██████████| 97/97 [00:09<00:00, 10.36it/s]\n"
     ]
    },
    {
     "name": "stdout",
     "output_type": "stream",
     "text": [
      "Epoch 36/75...  Train loss: 0.14084...  Train accuracy: 0.94898...  Validation accuracy: 0.84738...  Validation recall: 0.74562... \n"
     ]
    },
    {
     "name": "stderr",
     "output_type": "stream",
     "text": [
      "100%|██████████| 955/955 [03:25<00:00,  4.64it/s]\n",
      "100%|██████████| 97/97 [00:09<00:00, 10.25it/s]\n"
     ]
    },
    {
     "name": "stdout",
     "output_type": "stream",
     "text": [
      "Epoch 37/75...  Train loss: 0.14164...  Train accuracy: 0.94826...  Validation accuracy: 0.85742...  Validation recall: 0.76451... \n",
      "New best model found\n"
     ]
    },
    {
     "name": "stderr",
     "output_type": "stream",
     "text": [
      "100%|██████████| 955/955 [03:29<00:00,  4.56it/s]\n",
      "100%|██████████| 97/97 [00:10<00:00,  9.52it/s]\n"
     ]
    },
    {
     "name": "stdout",
     "output_type": "stream",
     "text": [
      "Epoch 38/75...  Train loss: 0.14017...  Train accuracy: 0.95095...  Validation accuracy: 0.84770...  Validation recall: 0.77317... \n"
     ]
    },
    {
     "name": "stderr",
     "output_type": "stream",
     "text": [
      "100%|██████████| 955/955 [03:31<00:00,  4.51it/s]\n",
      "100%|██████████| 97/97 [00:09<00:00,  9.71it/s]\n"
     ]
    },
    {
     "name": "stdout",
     "output_type": "stream",
     "text": [
      "Epoch 39/75...  Train loss: 0.13710...  Train accuracy: 0.94951...  Validation accuracy: 0.85288...  Validation recall: 0.75124... \n"
     ]
    },
    {
     "name": "stderr",
     "output_type": "stream",
     "text": [
      "100%|██████████| 955/955 [03:35<00:00,  4.44it/s]\n",
      "100%|██████████| 97/97 [00:10<00:00,  9.66it/s]\n"
     ]
    },
    {
     "name": "stdout",
     "output_type": "stream",
     "text": [
      "Epoch 40/75...  Train loss: 0.13363...  Train accuracy: 0.95134...  Validation accuracy: 0.84478...  Validation recall: 0.72581... \n"
     ]
    },
    {
     "name": "stderr",
     "output_type": "stream",
     "text": [
      "100%|██████████| 955/955 [03:30<00:00,  4.53it/s]\n",
      "100%|██████████| 97/97 [00:09<00:00, 10.01it/s]\n"
     ]
    },
    {
     "name": "stdout",
     "output_type": "stream",
     "text": [
      "Epoch 41/75...  Train loss: 0.13317...  Train accuracy: 0.95056...  Validation accuracy: 0.84705...  Validation recall: 0.74589... \n"
     ]
    },
    {
     "name": "stderr",
     "output_type": "stream",
     "text": [
      "100%|██████████| 955/955 [03:29<00:00,  4.56it/s]\n",
      "100%|██████████| 97/97 [00:09<00:00,  9.96it/s]\n"
     ]
    },
    {
     "name": "stdout",
     "output_type": "stream",
     "text": [
      "Epoch 42/75...  Train loss: 0.13623...  Train accuracy: 0.95196...  Validation accuracy: 0.86196...  Validation recall: 0.77355... \n",
      "New best model found\n"
     ]
    },
    {
     "name": "stderr",
     "output_type": "stream",
     "text": [
      "100%|██████████| 955/955 [03:39<00:00,  4.36it/s]\n",
      "100%|██████████| 97/97 [00:09<00:00,  9.70it/s]\n"
     ]
    },
    {
     "name": "stdout",
     "output_type": "stream",
     "text": [
      "Epoch 43/75...  Train loss: 0.13186...  Train accuracy: 0.95209...  Validation accuracy: 0.84576...  Validation recall: 0.75856... \n"
     ]
    },
    {
     "name": "stderr",
     "output_type": "stream",
     "text": [
      "100%|██████████| 955/955 [03:33<00:00,  4.48it/s]\n",
      "100%|██████████| 97/97 [00:10<00:00,  8.98it/s]\n"
     ]
    },
    {
     "name": "stdout",
     "output_type": "stream",
     "text": [
      "Epoch 44/75...  Train loss: 0.13154...  Train accuracy: 0.95252...  Validation accuracy: 0.85807...  Validation recall: 0.76970... \n"
     ]
    },
    {
     "name": "stderr",
     "output_type": "stream",
     "text": [
      "100%|██████████| 955/955 [03:28<00:00,  4.59it/s]\n",
      "100%|██████████| 97/97 [00:09<00:00,  9.98it/s]\n"
     ]
    },
    {
     "name": "stdout",
     "output_type": "stream",
     "text": [
      "Epoch 45/75...  Train loss: 0.12546...  Train accuracy: 0.95494...  Validation accuracy: 0.85936...  Validation recall: 0.74075... \n"
     ]
    },
    {
     "name": "stderr",
     "output_type": "stream",
     "text": [
      "100%|██████████| 955/955 [03:27<00:00,  4.60it/s]\n",
      "100%|██████████| 97/97 [00:08<00:00, 10.85it/s]\n"
     ]
    },
    {
     "name": "stdout",
     "output_type": "stream",
     "text": [
      "Epoch 46/75...  Train loss: 0.12481...  Train accuracy: 0.95429...  Validation accuracy: 0.85353...  Validation recall: 0.75444... \n"
     ]
    },
    {
     "name": "stderr",
     "output_type": "stream",
     "text": [
      "100%|██████████| 955/955 [03:16<00:00,  4.87it/s]\n",
      "100%|██████████| 97/97 [00:08<00:00, 10.89it/s]\n"
     ]
    },
    {
     "name": "stdout",
     "output_type": "stream",
     "text": [
      "Epoch 47/75...  Train loss: 0.12546...  Train accuracy: 0.95474...  Validation accuracy: 0.85418...  Validation recall: 0.77988... \n"
     ]
    },
    {
     "name": "stderr",
     "output_type": "stream",
     "text": [
      "100%|██████████| 955/955 [03:17<00:00,  4.85it/s]\n",
      "100%|██████████| 97/97 [00:08<00:00, 10.84it/s]\n"
     ]
    },
    {
     "name": "stdout",
     "output_type": "stream",
     "text": [
      "Epoch 48/75...  Train loss: 0.12281...  Train accuracy: 0.95432...  Validation accuracy: 0.84964...  Validation recall: 0.72650... \n"
     ]
    },
    {
     "name": "stderr",
     "output_type": "stream",
     "text": [
      "100%|██████████| 955/955 [03:13<00:00,  4.94it/s]\n",
      "100%|██████████| 97/97 [00:08<00:00, 11.22it/s]\n"
     ]
    },
    {
     "name": "stdout",
     "output_type": "stream",
     "text": [
      "Epoch 49/75...  Train loss: 0.12136...  Train accuracy: 0.95756...  Validation accuracy: 0.85386...  Validation recall: 0.76174... \n"
     ]
    },
    {
     "name": "stderr",
     "output_type": "stream",
     "text": [
      "100%|██████████| 955/955 [03:15<00:00,  4.88it/s]\n",
      "100%|██████████| 97/97 [00:09<00:00,  9.91it/s]\n"
     ]
    },
    {
     "name": "stdout",
     "output_type": "stream",
     "text": [
      "Epoch 50/75...  Train loss: 0.12083...  Train accuracy: 0.95746...  Validation accuracy: 0.85936...  Validation recall: 0.75226... \n"
     ]
    },
    {
     "name": "stderr",
     "output_type": "stream",
     "text": [
      "100%|██████████| 955/955 [03:15<00:00,  4.87it/s]\n",
      "100%|██████████| 97/97 [00:08<00:00, 10.95it/s]\n"
     ]
    },
    {
     "name": "stdout",
     "output_type": "stream",
     "text": [
      "Epoch 51/75...  Train loss: 0.11752...  Train accuracy: 0.95847...  Validation accuracy: 0.85062...  Validation recall: 0.75689... \n"
     ]
    },
    {
     "name": "stderr",
     "output_type": "stream",
     "text": [
      "100%|██████████| 955/955 [03:17<00:00,  4.85it/s]\n",
      "100%|██████████| 97/97 [00:08<00:00, 10.82it/s]\n"
     ]
    },
    {
     "name": "stdout",
     "output_type": "stream",
     "text": [
      "Epoch 52/75...  Train loss: 0.11898...  Train accuracy: 0.95815...  Validation accuracy: 0.84900...  Validation recall: 0.71806... \n",
      "convnext_tiny\n"
     ]
    },
    {
     "name": "stderr",
     "output_type": "stream",
     "text": [
      "100%|██████████| 955/955 [09:59<00:00,  1.59it/s]\n",
      "100%|██████████| 97/97 [00:11<00:00,  8.51it/s]\n"
     ]
    },
    {
     "name": "stdout",
     "output_type": "stream",
     "text": [
      "Epoch 1/75...  Train loss: 0.85870...  Train accuracy: 0.66407...  Validation accuracy: 0.78840...  Validation recall: 0.60137... \n",
      "New best model found\n"
     ]
    },
    {
     "name": "stderr",
     "output_type": "stream",
     "text": [
      "100%|██████████| 955/955 [09:57<00:00,  1.60it/s]\n",
      "100%|██████████| 97/97 [00:11<00:00,  8.60it/s]\n"
     ]
    },
    {
     "name": "stdout",
     "output_type": "stream",
     "text": [
      "Epoch 2/75...  Train loss: 0.61156...  Train accuracy: 0.76413...  Validation accuracy: 0.81076...  Validation recall: 0.73675... \n",
      "New best model found\n"
     ]
    },
    {
     "name": "stderr",
     "output_type": "stream",
     "text": [
      "100%|██████████| 955/955 [09:53<00:00,  1.61it/s]\n",
      "100%|██████████| 97/97 [00:11<00:00,  8.65it/s]\n"
     ]
    },
    {
     "name": "stdout",
     "output_type": "stream",
     "text": [
      "Epoch 3/75...  Train loss: 0.48287...  Train accuracy: 0.81868...  Validation accuracy: 0.83085...  Validation recall: 0.71369... \n",
      "New best model found\n"
     ]
    },
    {
     "name": "stderr",
     "output_type": "stream",
     "text": [
      "100%|██████████| 955/955 [09:54<00:00,  1.61it/s]\n",
      "100%|██████████| 97/97 [00:11<00:00,  8.62it/s]\n"
     ]
    },
    {
     "name": "stdout",
     "output_type": "stream",
     "text": [
      "Epoch 4/75...  Train loss: 0.39367...  Train accuracy: 0.85219...  Validation accuracy: 0.83150...  Validation recall: 0.74544... \n",
      "New best model found\n"
     ]
    },
    {
     "name": "stderr",
     "output_type": "stream",
     "text": [
      "100%|██████████| 955/955 [09:58<00:00,  1.60it/s]\n",
      "100%|██████████| 97/97 [00:11<00:00,  8.64it/s]\n"
     ]
    },
    {
     "name": "stdout",
     "output_type": "stream",
     "text": [
      "Epoch 5/75...  Train loss: 0.35217...  Train accuracy: 0.86931...  Validation accuracy: 0.82599...  Validation recall: 0.74139... \n"
     ]
    },
    {
     "name": "stderr",
     "output_type": "stream",
     "text": [
      "100%|██████████| 955/955 [09:54<00:00,  1.61it/s]\n",
      "100%|██████████| 97/97 [00:11<00:00,  8.62it/s]\n"
     ]
    },
    {
     "name": "stdout",
     "output_type": "stream",
     "text": [
      "Epoch 6/75...  Train loss: 0.31709...  Train accuracy: 0.88167...  Validation accuracy: 0.83603...  Validation recall: 0.73585... \n",
      "New best model found\n"
     ]
    },
    {
     "name": "stderr",
     "output_type": "stream",
     "text": [
      "100%|██████████| 955/955 [09:56<00:00,  1.60it/s]\n",
      "100%|██████████| 97/97 [00:11<00:00,  8.59it/s]\n"
     ]
    },
    {
     "name": "stdout",
     "output_type": "stream",
     "text": [
      "Epoch 7/75...  Train loss: 0.28084...  Train accuracy: 0.89666...  Validation accuracy: 0.84284...  Validation recall: 0.76928... \n",
      "New best model found\n"
     ]
    },
    {
     "name": "stderr",
     "output_type": "stream",
     "text": [
      "100%|██████████| 955/955 [09:57<00:00,  1.60it/s]\n",
      "100%|██████████| 97/97 [00:11<00:00,  8.48it/s]\n"
     ]
    },
    {
     "name": "stdout",
     "output_type": "stream",
     "text": [
      "Epoch 8/75...  Train loss: 0.26398...  Train accuracy: 0.90160...  Validation accuracy: 0.84187...  Validation recall: 0.79337... \n"
     ]
    },
    {
     "name": "stderr",
     "output_type": "stream",
     "text": [
      "100%|██████████| 955/955 [09:56<00:00,  1.60it/s]\n",
      "100%|██████████| 97/97 [00:11<00:00,  8.59it/s]\n"
     ]
    },
    {
     "name": "stdout",
     "output_type": "stream",
     "text": [
      "Epoch 9/75...  Train loss: 0.24021...  Train accuracy: 0.91188...  Validation accuracy: 0.85936...  Validation recall: 0.74486... \n",
      "New best model found\n"
     ]
    },
    {
     "name": "stderr",
     "output_type": "stream",
     "text": [
      "100%|██████████| 955/955 [09:57<00:00,  1.60it/s]\n",
      "100%|██████████| 97/97 [00:11<00:00,  8.59it/s]\n"
     ]
    },
    {
     "name": "stdout",
     "output_type": "stream",
     "text": [
      "Epoch 10/75...  Train loss: 0.22454...  Train accuracy: 0.91773...  Validation accuracy: 0.85645...  Validation recall: 0.76658... \n"
     ]
    },
    {
     "name": "stderr",
     "output_type": "stream",
     "text": [
      "100%|██████████| 955/955 [09:56<00:00,  1.60it/s]\n",
      "100%|██████████| 97/97 [00:11<00:00,  8.56it/s]\n"
     ]
    },
    {
     "name": "stdout",
     "output_type": "stream",
     "text": [
      "Epoch 11/75...  Train loss: 0.21186...  Train accuracy: 0.92264...  Validation accuracy: 0.85159...  Validation recall: 0.75352... \n"
     ]
    },
    {
     "name": "stderr",
     "output_type": "stream",
     "text": [
      "100%|██████████| 955/955 [10:00<00:00,  1.59it/s]\n",
      "100%|██████████| 97/97 [00:11<00:00,  8.53it/s]\n"
     ]
    },
    {
     "name": "stdout",
     "output_type": "stream",
     "text": [
      "Epoch 12/75...  Train loss: 0.20396...  Train accuracy: 0.92719...  Validation accuracy: 0.86552...  Validation recall: 0.75031... \n",
      "New best model found\n"
     ]
    },
    {
     "name": "stderr",
     "output_type": "stream",
     "text": [
      "100%|██████████| 955/955 [10:11<00:00,  1.56it/s]\n",
      "100%|██████████| 97/97 [00:11<00:00,  8.52it/s]\n"
     ]
    },
    {
     "name": "stdout",
     "output_type": "stream",
     "text": [
      "Epoch 13/75...  Train loss: 0.18895...  Train accuracy: 0.93226...  Validation accuracy: 0.84802...  Validation recall: 0.75092... \n"
     ]
    },
    {
     "name": "stderr",
     "output_type": "stream",
     "text": [
      "100%|██████████| 955/955 [09:56<00:00,  1.60it/s]\n",
      "100%|██████████| 97/97 [00:11<00:00,  8.57it/s]\n"
     ]
    },
    {
     "name": "stdout",
     "output_type": "stream",
     "text": [
      "Epoch 14/75...  Train loss: 0.18866...  Train accuracy: 0.93304...  Validation accuracy: 0.85969...  Validation recall: 0.76583... \n"
     ]
    },
    {
     "name": "stderr",
     "output_type": "stream",
     "text": [
      "100%|██████████| 955/955 [09:52<00:00,  1.61it/s]\n",
      "100%|██████████| 97/97 [00:11<00:00,  8.62it/s]\n"
     ]
    },
    {
     "name": "stdout",
     "output_type": "stream",
     "text": [
      "Epoch 15/75...  Train loss: 0.17370...  Train accuracy: 0.93743...  Validation accuracy: 0.85094...  Validation recall: 0.72957... \n"
     ]
    },
    {
     "name": "stderr",
     "output_type": "stream",
     "text": [
      "100%|██████████| 955/955 [09:57<00:00,  1.60it/s]\n",
      "100%|██████████| 97/97 [00:11<00:00,  8.64it/s]\n"
     ]
    },
    {
     "name": "stdout",
     "output_type": "stream",
     "text": [
      "Epoch 16/75...  Train loss: 0.17303...  Train accuracy: 0.93766...  Validation accuracy: 0.85256...  Validation recall: 0.74841... \n"
     ]
    },
    {
     "name": "stderr",
     "output_type": "stream",
     "text": [
      "100%|██████████| 955/955 [09:52<00:00,  1.61it/s]\n",
      "100%|██████████| 97/97 [00:11<00:00,  8.60it/s]\n"
     ]
    },
    {
     "name": "stdout",
     "output_type": "stream",
     "text": [
      "Epoch 17/75...  Train loss: 0.16483...  Train accuracy: 0.94051...  Validation accuracy: 0.86099...  Validation recall: 0.73625... \n"
     ]
    },
    {
     "name": "stderr",
     "output_type": "stream",
     "text": [
      "100%|██████████| 955/955 [10:00<00:00,  1.59it/s]\n",
      "100%|██████████| 97/97 [00:11<00:00,  8.60it/s]\n"
     ]
    },
    {
     "name": "stdout",
     "output_type": "stream",
     "text": [
      "Epoch 18/75...  Train loss: 0.16173...  Train accuracy: 0.94332...  Validation accuracy: 0.86163...  Validation recall: 0.76484... \n"
     ]
    },
    {
     "name": "stderr",
     "output_type": "stream",
     "text": [
      "100%|██████████| 955/955 [09:52<00:00,  1.61it/s]\n",
      "100%|██████████| 97/97 [00:11<00:00,  8.62it/s]\n"
     ]
    },
    {
     "name": "stdout",
     "output_type": "stream",
     "text": [
      "Epoch 19/75...  Train loss: 0.15049...  Train accuracy: 0.94627...  Validation accuracy: 0.83506...  Validation recall: 0.77302... \n"
     ]
    },
    {
     "name": "stderr",
     "output_type": "stream",
     "text": [
      "100%|██████████| 955/955 [09:56<00:00,  1.60it/s]\n",
      "100%|██████████| 97/97 [00:11<00:00,  8.64it/s]\n"
     ]
    },
    {
     "name": "stdout",
     "output_type": "stream",
     "text": [
      "Epoch 20/75...  Train loss: 0.15523...  Train accuracy: 0.94476...  Validation accuracy: 0.86261...  Validation recall: 0.79962... \n"
     ]
    },
    {
     "name": "stderr",
     "output_type": "stream",
     "text": [
      "100%|██████████| 955/955 [09:53<00:00,  1.61it/s]\n",
      "100%|██████████| 97/97 [00:11<00:00,  8.58it/s]\n"
     ]
    },
    {
     "name": "stdout",
     "output_type": "stream",
     "text": [
      "Epoch 21/75...  Train loss: 0.14812...  Train accuracy: 0.94643...  Validation accuracy: 0.85936...  Validation recall: 0.77180... \n"
     ]
    },
    {
     "name": "stderr",
     "output_type": "stream",
     "text": [
      "100%|██████████| 955/955 [09:52<00:00,  1.61it/s]\n",
      "100%|██████████| 97/97 [00:11<00:00,  8.65it/s]\n"
     ]
    },
    {
     "name": "stdout",
     "output_type": "stream",
     "text": [
      "Epoch 22/75...  Train loss: 0.15029...  Train accuracy: 0.94761...  Validation accuracy: 0.85645...  Validation recall: 0.79060... \n",
      "efficientnet_v2_s\n"
     ]
    },
    {
     "name": "stderr",
     "output_type": "stream",
     "text": [
      "100%|██████████| 955/955 [07:26<00:00,  2.14it/s]\n",
      "100%|██████████| 97/97 [00:10<00:00,  9.38it/s]\n"
     ]
    },
    {
     "name": "stdout",
     "output_type": "stream",
     "text": [
      "Epoch 1/75...  Train loss: 0.85019...  Train accuracy: 0.66854...  Validation accuracy: 0.79196...  Validation recall: 0.66798... \n",
      "New best model found\n"
     ]
    },
    {
     "name": "stderr",
     "output_type": "stream",
     "text": [
      "100%|██████████| 955/955 [07:31<00:00,  2.11it/s]\n",
      "100%|██████████| 97/97 [00:11<00:00,  8.53it/s]\n"
     ]
    },
    {
     "name": "stdout",
     "output_type": "stream",
     "text": [
      "Epoch 2/75...  Train loss: 0.60832...  Train accuracy: 0.77237...  Validation accuracy: 0.81821...  Validation recall: 0.70279... \n",
      "New best model found\n"
     ]
    },
    {
     "name": "stderr",
     "output_type": "stream",
     "text": [
      "100%|██████████| 955/955 [07:36<00:00,  2.09it/s]\n",
      "100%|██████████| 97/97 [00:12<00:00,  7.88it/s]\n"
     ]
    },
    {
     "name": "stdout",
     "output_type": "stream",
     "text": [
      "Epoch 3/75...  Train loss: 0.48407...  Train accuracy: 0.82061...  Validation accuracy: 0.82923...  Validation recall: 0.73278... \n",
      "New best model found\n"
     ]
    },
    {
     "name": "stderr",
     "output_type": "stream",
     "text": [
      "100%|██████████| 955/955 [07:55<00:00,  2.01it/s]\n",
      "100%|██████████| 97/97 [00:11<00:00,  8.22it/s]\n"
     ]
    },
    {
     "name": "stdout",
     "output_type": "stream",
     "text": [
      "Epoch 4/75...  Train loss: 0.39994...  Train accuracy: 0.85219...  Validation accuracy: 0.84997...  Validation recall: 0.77324... \n",
      "New best model found\n"
     ]
    },
    {
     "name": "stderr",
     "output_type": "stream",
     "text": [
      "100%|██████████| 955/955 [07:35<00:00,  2.10it/s]\n",
      "100%|██████████| 97/97 [00:11<00:00,  8.15it/s]\n"
     ]
    },
    {
     "name": "stdout",
     "output_type": "stream",
     "text": [
      "Epoch 5/75...  Train loss: 0.35258...  Train accuracy: 0.87041...  Validation accuracy: 0.85094...  Validation recall: 0.73997... \n",
      "New best model found\n"
     ]
    },
    {
     "name": "stderr",
     "output_type": "stream",
     "text": [
      "100%|██████████| 955/955 [07:33<00:00,  2.11it/s]\n",
      "100%|██████████| 97/97 [00:11<00:00,  8.36it/s]\n"
     ]
    },
    {
     "name": "stdout",
     "output_type": "stream",
     "text": [
      "Epoch 6/75...  Train loss: 0.30856...  Train accuracy: 0.88681...  Validation accuracy: 0.85515...  Validation recall: 0.76233... \n",
      "New best model found\n"
     ]
    },
    {
     "name": "stderr",
     "output_type": "stream",
     "text": [
      "100%|██████████| 955/955 [07:56<00:00,  2.01it/s]\n",
      "100%|██████████| 97/97 [00:12<00:00,  7.78it/s]\n"
     ]
    },
    {
     "name": "stdout",
     "output_type": "stream",
     "text": [
      "Epoch 7/75...  Train loss: 0.27744...  Train accuracy: 0.89718...  Validation accuracy: 0.84900...  Validation recall: 0.74975... \n"
     ]
    },
    {
     "name": "stderr",
     "output_type": "stream",
     "text": [
      "100%|██████████| 955/955 [07:33<00:00,  2.10it/s]\n",
      "100%|██████████| 97/97 [00:11<00:00,  8.46it/s]\n"
     ]
    },
    {
     "name": "stdout",
     "output_type": "stream",
     "text": [
      "Epoch 8/75...  Train loss: 0.25815...  Train accuracy: 0.90671...  Validation accuracy: 0.86034...  Validation recall: 0.77897... \n",
      "New best model found\n"
     ]
    },
    {
     "name": "stderr",
     "output_type": "stream",
     "text": [
      "100%|██████████| 955/955 [07:55<00:00,  2.01it/s]\n",
      "100%|██████████| 97/97 [00:11<00:00,  8.55it/s]\n"
     ]
    },
    {
     "name": "stdout",
     "output_type": "stream",
     "text": [
      "Epoch 9/75...  Train loss: 0.23872...  Train accuracy: 0.91377...  Validation accuracy: 0.86487...  Validation recall: 0.78935... \n",
      "New best model found\n"
     ]
    },
    {
     "name": "stderr",
     "output_type": "stream",
     "text": [
      "100%|██████████| 955/955 [07:34<00:00,  2.10it/s]\n",
      "100%|██████████| 97/97 [00:11<00:00,  8.26it/s]\n"
     ]
    },
    {
     "name": "stdout",
     "output_type": "stream",
     "text": [
      "Epoch 10/75...  Train loss: 0.22686...  Train accuracy: 0.91669...  Validation accuracy: 0.85839...  Validation recall: 0.76176... \n"
     ]
    },
    {
     "name": "stderr",
     "output_type": "stream",
     "text": [
      "100%|██████████| 955/955 [07:35<00:00,  2.10it/s]\n",
      "100%|██████████| 97/97 [00:11<00:00,  8.43it/s]\n"
     ]
    },
    {
     "name": "stdout",
     "output_type": "stream",
     "text": [
      "Epoch 11/75...  Train loss: 0.20943...  Train accuracy: 0.92304...  Validation accuracy: 0.86423...  Validation recall: 0.76690... \n"
     ]
    },
    {
     "name": "stderr",
     "output_type": "stream",
     "text": [
      "100%|██████████| 955/955 [07:54<00:00,  2.01it/s]\n",
      "100%|██████████| 97/97 [00:11<00:00,  8.58it/s]\n"
     ]
    },
    {
     "name": "stdout",
     "output_type": "stream",
     "text": [
      "Epoch 12/75...  Train loss: 0.19748...  Train accuracy: 0.92837...  Validation accuracy: 0.86099...  Validation recall: 0.77268... \n"
     ]
    },
    {
     "name": "stderr",
     "output_type": "stream",
     "text": [
      "100%|██████████| 955/955 [07:33<00:00,  2.10it/s]\n",
      "100%|██████████| 97/97 [00:10<00:00,  8.87it/s]\n"
     ]
    },
    {
     "name": "stdout",
     "output_type": "stream",
     "text": [
      "Epoch 13/75...  Train loss: 0.18823...  Train accuracy: 0.93279...  Validation accuracy: 0.87103...  Validation recall: 0.80013... \n",
      "New best model found\n"
     ]
    },
    {
     "name": "stderr",
     "output_type": "stream",
     "text": [
      "100%|██████████| 955/955 [07:34<00:00,  2.10it/s]\n",
      "100%|██████████| 97/97 [00:11<00:00,  8.64it/s]\n"
     ]
    },
    {
     "name": "stdout",
     "output_type": "stream",
     "text": [
      "Epoch 14/75...  Train loss: 0.18306...  Train accuracy: 0.93338...  Validation accuracy: 0.87427...  Validation recall: 0.76840... \n",
      "New best model found\n"
     ]
    },
    {
     "name": "stderr",
     "output_type": "stream",
     "text": [
      "100%|██████████| 955/955 [07:22<00:00,  2.16it/s]\n",
      "100%|██████████| 97/97 [00:10<00:00,  8.86it/s]\n"
     ]
    },
    {
     "name": "stdout",
     "output_type": "stream",
     "text": [
      "Epoch 18/75...  Train loss: 0.15050...  Train accuracy: 0.94682...  Validation accuracy: 0.86747...  Validation recall: 0.77851... \n"
     ]
    },
    {
     "name": "stderr",
     "output_type": "stream",
     "text": [
      "100%|██████████| 955/955 [07:25<00:00,  2.15it/s]\n",
      "100%|██████████| 97/97 [00:10<00:00,  8.95it/s]\n"
     ]
    },
    {
     "name": "stdout",
     "output_type": "stream",
     "text": [
      "Epoch 19/75...  Train loss: 0.15483...  Train accuracy: 0.94414...  Validation accuracy: 0.87233...  Validation recall: 0.76183... \n"
     ]
    },
    {
     "name": "stderr",
     "output_type": "stream",
     "text": [
      "100%|██████████| 955/955 [07:23<00:00,  2.15it/s]\n",
      "100%|██████████| 97/97 [00:10<00:00,  8.88it/s]\n"
     ]
    },
    {
     "name": "stdout",
     "output_type": "stream",
     "text": [
      "Epoch 20/75...  Train loss: 0.15229...  Train accuracy: 0.94741...  Validation accuracy: 0.86196...  Validation recall: 0.79307... \n"
     ]
    },
    {
     "name": "stderr",
     "output_type": "stream",
     "text": [
      "100%|██████████| 955/955 [07:25<00:00,  2.15it/s]\n",
      "100%|██████████| 97/97 [00:11<00:00,  8.76it/s]\n"
     ]
    },
    {
     "name": "stdout",
     "output_type": "stream",
     "text": [
      "Epoch 21/75...  Train loss: 0.14713...  Train accuracy: 0.94839...  Validation accuracy: 0.86034...  Validation recall: 0.74733... \n"
     ]
    },
    {
     "name": "stderr",
     "output_type": "stream",
     "text": [
      "100%|██████████| 955/955 [07:25<00:00,  2.14it/s]\n",
      "100%|██████████| 97/97 [00:11<00:00,  8.48it/s]\n"
     ]
    },
    {
     "name": "stdout",
     "output_type": "stream",
     "text": [
      "Epoch 22/75...  Train loss: 0.14621...  Train accuracy: 0.94921...  Validation accuracy: 0.86779...  Validation recall: 0.78509... \n"
     ]
    },
    {
     "name": "stderr",
     "output_type": "stream",
     "text": [
      "100%|██████████| 955/955 [07:24<00:00,  2.15it/s]\n",
      "100%|██████████| 97/97 [00:10<00:00,  8.82it/s]\n"
     ]
    },
    {
     "name": "stdout",
     "output_type": "stream",
     "text": [
      "Epoch 23/75...  Train loss: 0.14121...  Train accuracy: 0.94866...  Validation accuracy: 0.86163...  Validation recall: 0.76469... \n"
     ]
    },
    {
     "name": "stderr",
     "output_type": "stream",
     "text": [
      "100%|██████████| 955/955 [07:25<00:00,  2.15it/s]\n",
      "100%|██████████| 97/97 [00:10<00:00,  9.07it/s]"
     ]
    },
    {
     "name": "stdout",
     "output_type": "stream",
     "text": [
      "Epoch 24/75...  Train loss: 0.13610...  Train accuracy: 0.95128...  Validation accuracy: 0.87362...  Validation recall: 0.76358... \n"
     ]
    },
    {
     "name": "stderr",
     "output_type": "stream",
     "text": [
      "\n"
     ]
    }
   ],
   "source": [
    "for i in range(len(models)):\n",
    "    print(models[i].name)\n",
    "    criterion = torch.nn.CrossEntropyLoss()\n",
    "    optimizer = torch.optim.Adam(models[i].parameters(), lr=LEARNING_RATE, weight_decay=WEIGHT_DECAY)\n",
    "    train_loss, train_accuracy, val_accuracy, val_recall = train(\n",
    "        models[i], dataloader[\"train\"], dataloader[\"val\"], optimizer, criterion, EPOCHS, PATIENCE, f\"./save_models/{models[i].name}.pt\"\n",
    "    )"
   ]
  },
  {
   "cell_type": "code",
   "execution_count": 9,
   "metadata": {},
   "outputs": [],
   "source": [
    "for i in range(len(models)):\n",
    "    models[i].load_state_dict(torch.load(f\"./save_models/{models[i].name}.pt\"))\n",
    "\n",
    "for i in range(len(models)):\n",
    "    for param in models[i].parameters():\n",
    "        param.requires_grad = False\n",
    "\n",
    "for i in range(len(models)):\n",
    "    models[i].classifier = nn.Identity()"
   ]
  },
  {
   "cell_type": "code",
   "execution_count": 10,
   "metadata": {},
   "outputs": [
    {
     "data": {
      "text/plain": [
       "EnsembledModel(\n",
       "  (ffnn): Sequential(\n",
       "    (0): Linear(in_features=1536, out_features=2048, bias=True)\n",
       "    (1): ReLU()\n",
       "    (2): Dropout(p=0.5, inplace=False)\n",
       "    (3): Linear(in_features=2048, out_features=1024, bias=True)\n",
       "    (4): ReLU()\n",
       "    (5): Dropout(p=0.5, inplace=False)\n",
       "    (6): Linear(in_features=1024, out_features=1024, bias=True)\n",
       "    (7): ReLU()\n",
       "    (8): Dropout(p=0.5, inplace=False)\n",
       "    (9): Linear(in_features=1024, out_features=1024, bias=True)\n",
       "    (10): ReLU()\n",
       "    (11): Dropout(p=0.5, inplace=False)\n",
       "    (12): Linear(in_features=1024, out_features=1024, bias=True)\n",
       "    (13): ReLU()\n",
       "    (14): Dropout(p=0.5, inplace=False)\n",
       "    (15): Linear(in_features=1024, out_features=5, bias=True)\n",
       "  )\n",
       ")"
      ]
     },
     "execution_count": 10,
     "metadata": {},
     "output_type": "execute_result"
    }
   ],
   "source": [
    "class EnsembledModel(nn.Module):\n",
    "    def __init__(self, models):\n",
    "        super().__init__()\n",
    "        \n",
    "        self.models = models\n",
    "            \n",
    "        self.ffnn = nn.Sequential(\n",
    "             nn.Linear(512 + 512 + 512, 2048),\n",
    "             nn.ReLU(),\n",
    "             nn.Dropout(),\n",
    "             nn.Linear(2048, 1024),\n",
    "             nn.ReLU(),             \n",
    "             nn.Dropout(),\n",
    "             nn.Linear(1024, 1024),\n",
    "             nn.ReLU(),\n",
    "             nn.Dropout(),\n",
    "             nn.Linear(1024, 1024),\n",
    "             nn.ReLU(),\n",
    "             nn.Dropout(),\n",
    "             nn.Linear(1024, 1024),\n",
    "             nn.ReLU(),\n",
    "             nn.Dropout(),\n",
    "             nn.Linear(1024, 5),\n",
    "         )\n",
    "\n",
    "    def forward(self, x):\n",
    "        x1 = self.models[0](x)\n",
    "        x2 = self.models[1](x)\n",
    "        x3 = self.models[2](x)\n",
    "        x = torch.cat([x1, x2, x3], dim=1)\n",
    "        x = self.ffnn(x)\n",
    "        return x\n",
    "    \n",
    "model = EnsembledModel([models[i] for i in range(len(models))])\n",
    "model = model.to(device)\n",
    "model"
   ]
  },
  {
   "cell_type": "code",
   "execution_count": 11,
   "metadata": {},
   "outputs": [
    {
     "name": "stderr",
     "output_type": "stream",
     "text": [
      "100%|██████████| 955/955 [05:24<00:00,  2.94it/s]\n",
      "100%|██████████| 97/97 [00:21<00:00,  4.57it/s]\n"
     ]
    },
    {
     "name": "stdout",
     "output_type": "stream",
     "text": [
      "Epoch 1/75...  Train loss: 0.14100...  Train accuracy: 0.94457...  Validation accuracy: 0.88723...  Validation recall: 0.82254... \n",
      "New best model found\n"
     ]
    },
    {
     "name": "stderr",
     "output_type": "stream",
     "text": [
      "100%|██████████| 955/955 [06:03<00:00,  2.63it/s]\n",
      "100%|██████████| 97/97 [00:21<00:00,  4.56it/s]\n"
     ]
    },
    {
     "name": "stdout",
     "output_type": "stream",
     "text": [
      "Epoch 2/75...  Train loss: 0.06071...  Train accuracy: 0.98118...  Validation accuracy: 0.89177...  Validation recall: 0.80644... \n",
      "New best model found\n"
     ]
    },
    {
     "name": "stderr",
     "output_type": "stream",
     "text": [
      "100%|██████████| 955/955 [06:18<00:00,  2.52it/s]\n",
      "100%|██████████| 97/97 [00:21<00:00,  4.57it/s]\n"
     ]
    },
    {
     "name": "stdout",
     "output_type": "stream",
     "text": [
      "Epoch 3/75...  Train loss: 0.05841...  Train accuracy: 0.98213...  Validation accuracy: 0.89371...  Validation recall: 0.79285... \n",
      "New best model found\n"
     ]
    },
    {
     "name": "stderr",
     "output_type": "stream",
     "text": [
      "100%|██████████| 955/955 [06:15<00:00,  2.54it/s]\n",
      "100%|██████████| 97/97 [00:37<00:00,  2.57it/s]\n"
     ]
    },
    {
     "name": "stdout",
     "output_type": "stream",
     "text": [
      "Epoch 4/75...  Train loss: 0.05613...  Train accuracy: 0.98128...  Validation accuracy: 0.88853...  Validation recall: 0.81204... \n"
     ]
    },
    {
     "name": "stderr",
     "output_type": "stream",
     "text": [
      "100%|██████████| 955/955 [08:12<00:00,  1.94it/s]\n",
      "100%|██████████| 97/97 [00:21<00:00,  4.57it/s]\n"
     ]
    },
    {
     "name": "stdout",
     "output_type": "stream",
     "text": [
      "Epoch 5/75...  Train loss: 0.05829...  Train accuracy: 0.98089...  Validation accuracy: 0.89015...  Validation recall: 0.79982... \n"
     ]
    },
    {
     "name": "stderr",
     "output_type": "stream",
     "text": [
      "100%|██████████| 955/955 [05:26<00:00,  2.93it/s]\n",
      "100%|██████████| 97/97 [00:21<00:00,  4.56it/s]\n"
     ]
    },
    {
     "name": "stdout",
     "output_type": "stream",
     "text": [
      "Epoch 6/75...  Train loss: 0.05623...  Train accuracy: 0.98210...  Validation accuracy: 0.89112...  Validation recall: 0.80226... \n"
     ]
    },
    {
     "name": "stderr",
     "output_type": "stream",
     "text": [
      "100%|██████████| 955/955 [05:33<00:00,  2.86it/s]\n",
      "100%|██████████| 97/97 [00:21<00:00,  4.57it/s]\n"
     ]
    },
    {
     "name": "stdout",
     "output_type": "stream",
     "text": [
      "Epoch 7/75...  Train loss: 0.05464...  Train accuracy: 0.98217...  Validation accuracy: 0.89145...  Validation recall: 0.79029... \n"
     ]
    },
    {
     "name": "stderr",
     "output_type": "stream",
     "text": [
      "100%|██████████| 955/955 [05:34<00:00,  2.85it/s]\n",
      "100%|██████████| 97/97 [00:21<00:00,  4.56it/s]\n"
     ]
    },
    {
     "name": "stdout",
     "output_type": "stream",
     "text": [
      "Epoch 8/75...  Train loss: 0.05423...  Train accuracy: 0.98360...  Validation accuracy: 0.88983...  Validation recall: 0.80967... \n"
     ]
    },
    {
     "name": "stderr",
     "output_type": "stream",
     "text": [
      "100%|██████████| 955/955 [05:33<00:00,  2.86it/s]\n",
      "100%|██████████| 97/97 [00:21<00:00,  4.57it/s]\n"
     ]
    },
    {
     "name": "stdout",
     "output_type": "stream",
     "text": [
      "Epoch 9/75...  Train loss: 0.05746...  Train accuracy: 0.98292...  Validation accuracy: 0.89242...  Validation recall: 0.81814... \n"
     ]
    },
    {
     "name": "stderr",
     "output_type": "stream",
     "text": [
      "100%|██████████| 955/955 [05:34<00:00,  2.86it/s]\n",
      "100%|██████████| 97/97 [00:21<00:00,  4.57it/s]\n"
     ]
    },
    {
     "name": "stdout",
     "output_type": "stream",
     "text": [
      "Epoch 10/75...  Train loss: 0.05790...  Train accuracy: 0.98184...  Validation accuracy: 0.89209...  Validation recall: 0.80674... \n"
     ]
    },
    {
     "name": "stderr",
     "output_type": "stream",
     "text": [
      "100%|██████████| 955/955 [05:33<00:00,  2.87it/s]\n",
      "100%|██████████| 97/97 [00:21<00:00,  4.57it/s]\n"
     ]
    },
    {
     "name": "stdout",
     "output_type": "stream",
     "text": [
      "Epoch 11/75...  Train loss: 0.05488...  Train accuracy: 0.98318...  Validation accuracy: 0.88756...  Validation recall: 0.80614... \n"
     ]
    },
    {
     "name": "stderr",
     "output_type": "stream",
     "text": [
      "100%|██████████| 955/955 [05:33<00:00,  2.86it/s]\n",
      "100%|██████████| 97/97 [00:21<00:00,  4.56it/s]\n"
     ]
    },
    {
     "name": "stdout",
     "output_type": "stream",
     "text": [
      "Epoch 12/75...  Train loss: 0.05710...  Train accuracy: 0.98266...  Validation accuracy: 0.89533...  Validation recall: 0.80165... \n",
      "New best model found\n"
     ]
    },
    {
     "name": "stderr",
     "output_type": "stream",
     "text": [
      "100%|██████████| 955/955 [05:34<00:00,  2.86it/s]\n",
      "100%|██████████| 97/97 [00:21<00:00,  4.56it/s]\n"
     ]
    },
    {
     "name": "stdout",
     "output_type": "stream",
     "text": [
      "Epoch 13/75...  Train loss: 0.05481...  Train accuracy: 0.98249...  Validation accuracy: 0.89145...  Validation recall: 0.80714... \n"
     ]
    },
    {
     "name": "stderr",
     "output_type": "stream",
     "text": [
      "100%|██████████| 955/955 [05:33<00:00,  2.86it/s]\n",
      "100%|██████████| 97/97 [00:21<00:00,  4.56it/s]\n"
     ]
    },
    {
     "name": "stdout",
     "output_type": "stream",
     "text": [
      "Epoch 14/75...  Train loss: 0.05492...  Train accuracy: 0.98279...  Validation accuracy: 0.89371...  Validation recall: 0.80346... \n"
     ]
    },
    {
     "name": "stderr",
     "output_type": "stream",
     "text": [
      "100%|██████████| 955/955 [05:34<00:00,  2.86it/s]\n",
      "100%|██████████| 97/97 [00:21<00:00,  4.57it/s]\n"
     ]
    },
    {
     "name": "stdout",
     "output_type": "stream",
     "text": [
      "Epoch 15/75...  Train loss: 0.05610...  Train accuracy: 0.98246...  Validation accuracy: 0.89436...  Validation recall: 0.80374... \n"
     ]
    },
    {
     "name": "stderr",
     "output_type": "stream",
     "text": [
      "100%|██████████| 955/955 [05:34<00:00,  2.86it/s]\n",
      "100%|██████████| 97/97 [00:24<00:00,  4.02it/s]\n"
     ]
    },
    {
     "name": "stdout",
     "output_type": "stream",
     "text": [
      "Epoch 16/75...  Train loss: 0.05468...  Train accuracy: 0.98361...  Validation accuracy: 0.89339...  Validation recall: 0.79975... \n"
     ]
    },
    {
     "name": "stderr",
     "output_type": "stream",
     "text": [
      "100%|██████████| 955/955 [06:21<00:00,  2.50it/s]\n",
      "100%|██████████| 97/97 [00:21<00:00,  4.56it/s]\n"
     ]
    },
    {
     "name": "stdout",
     "output_type": "stream",
     "text": [
      "Epoch 17/75...  Train loss: 0.05238...  Train accuracy: 0.98279...  Validation accuracy: 0.89015...  Validation recall: 0.80013... \n"
     ]
    },
    {
     "name": "stderr",
     "output_type": "stream",
     "text": [
      "100%|██████████| 955/955 [05:33<00:00,  2.86it/s]\n",
      "100%|██████████| 97/97 [00:21<00:00,  4.57it/s]\n"
     ]
    },
    {
     "name": "stdout",
     "output_type": "stream",
     "text": [
      "Epoch 18/75...  Train loss: 0.05556...  Train accuracy: 0.98249...  Validation accuracy: 0.89209...  Validation recall: 0.80859... \n"
     ]
    },
    {
     "name": "stderr",
     "output_type": "stream",
     "text": [
      "100%|██████████| 955/955 [05:33<00:00,  2.87it/s]\n",
      "100%|██████████| 97/97 [00:21<00:00,  4.51it/s]\n"
     ]
    },
    {
     "name": "stdout",
     "output_type": "stream",
     "text": [
      "Epoch 19/75...  Train loss: 0.05299...  Train accuracy: 0.98236...  Validation accuracy: 0.89339...  Validation recall: 0.80860... \n"
     ]
    },
    {
     "name": "stderr",
     "output_type": "stream",
     "text": [
      "100%|██████████| 955/955 [05:33<00:00,  2.86it/s]\n",
      "100%|██████████| 97/97 [00:21<00:00,  4.57it/s]\n"
     ]
    },
    {
     "name": "stdout",
     "output_type": "stream",
     "text": [
      "Epoch 20/75...  Train loss: 0.05807...  Train accuracy: 0.98180...  Validation accuracy: 0.89274...  Validation recall: 0.80310... \n"
     ]
    },
    {
     "name": "stderr",
     "output_type": "stream",
     "text": [
      "100%|██████████| 955/955 [05:33<00:00,  2.86it/s]\n",
      "100%|██████████| 97/97 [00:21<00:00,  4.57it/s]\n"
     ]
    },
    {
     "name": "stdout",
     "output_type": "stream",
     "text": [
      "Epoch 21/75...  Train loss: 0.05543...  Train accuracy: 0.98334...  Validation accuracy: 0.89242...  Validation recall: 0.80865... \n"
     ]
    },
    {
     "name": "stderr",
     "output_type": "stream",
     "text": [
      "100%|██████████| 955/955 [05:33<00:00,  2.86it/s]\n",
      "100%|██████████| 97/97 [00:21<00:00,  4.57it/s]"
     ]
    },
    {
     "name": "stdout",
     "output_type": "stream",
     "text": [
      "Epoch 22/75...  Train loss: 0.05389...  Train accuracy: 0.98288...  Validation accuracy: 0.89080...  Validation recall: 0.80046... \n"
     ]
    },
    {
     "name": "stderr",
     "output_type": "stream",
     "text": [
      "\n"
     ]
    }
   ],
   "source": [
    "criterion = torch.nn.CrossEntropyLoss()\n",
    "optimizer = torch.optim.Adam(model.parameters(), lr=LEARNING_RATE, weight_decay=WEIGHT_DECAY)\n",
    "train_loss, train_accuracy, val_accuracy, val_recall = train(\n",
    "    model, dataloader[\"train\"], dataloader[\"val\"], optimizer, criterion, EPOCHS, PATIENCE, \"./save_models/ensemble/ensembled.pt\"\n",
    ")"
   ]
  },
  {
   "cell_type": "code",
   "execution_count": 12,
   "metadata": {},
   "outputs": [
    {
     "data": {
      "image/png": "[encoded data removed]",
      "text/plain": [
       "<Figure size 640x480 with 1 Axes>"
      ]
     },
     "metadata": {},
     "output_type": "display_data"
    }
   ],
   "source": [
    "plt.plot(train_loss, label=\"train loss\")\n",
    "plt.plot(train_accuracy, label=\"train accuracy\")\n",
    "plt.plot(val_accuracy, label=\"validation accuracy\")\n",
    "plt.plot(val_recall, label=\"validation recall\")\n",
    "plt.xlabel(\"Epochs\")\n",
    "plt.ylabel(\"Loss / Accuracy / Recall\")\n",
    "plt.title(\"Loss and Accuracy and Recall\")\n",
    "plt.legend()\n",
    "plt.show()"
   ]
  },
  {
   "cell_type": "code",
   "execution_count": 13,
   "metadata": {},
   "outputs": [
    {
     "data": {
      "text/plain": [
       "<All keys matched successfully>"
      ]
     },
     "execution_count": 13,
     "metadata": {},
     "output_type": "execute_result"
    }
   ],
   "source": [
    "model.load_state_dict(torch.load(\"./save_models/ensemble/ensembled.pt\"))"
   ]
  },
  {
   "cell_type": "code",
   "execution_count": 15,
   "metadata": {
    "tags": []
   },
   "outputs": [
    {
     "name": "stderr",
     "output_type": "stream",
     "text": [
      "100%|██████████| 97/97 [00:21<00:00,  4.59it/s]\n"
     ]
    },
    {
     "name": "stdout",
     "output_type": "stream",
     "text": [
      "[[ 133   16    4    3   12]\n",
      " [  10  415    7    5   22]\n",
      " [   5    8  365    1  122]\n",
      " [   5   20    3   59   13]\n",
      " [   7   21   79    2 1752]]\n",
      "[[0.79166667 0.0952381  0.02380952 0.01785714 0.07142857]\n",
      " [0.02178649 0.90413943 0.01525054 0.01089325 0.04793028]\n",
      " [0.00998004 0.01596806 0.72854291 0.00199601 0.24351297]\n",
      " [0.05       0.2        0.03       0.59       0.13      ]\n",
      " [0.00376142 0.01128426 0.0424503  0.00107469 0.94142934]]\n"
     ]
    },
    {
     "data": {
      "image/png": "[encoded data removed]",
      "text/plain": [
       "<Figure size 640x480 with 2 Axes>"
      ]
     },
     "metadata": {},
     "output_type": "display_data"
    },
    {
     "name": "stdout",
     "output_type": "stream",
     "text": [
      "              precision    recall  f1-score   support\n",
      "\n",
      "           0    0.83125   0.79167   0.81098       168\n",
      "           1    0.86458   0.90414   0.88392       459\n",
      "           2    0.79694   0.72854   0.76121       501\n",
      "           3    0.91202   0.94143   0.92649      1861\n",
      "           4    0.84286   0.59000   0.69412       100\n",
      "\n",
      "    accuracy                        0.88184      3089\n",
      "   macro avg    0.84953   0.79116   0.81534      3089\n",
      "weighted avg    0.87968   0.88184   0.87956      3089\n",
      "\n",
      "accuracy: 0.881838782777598\n",
      "precision: 0.8495317389234938\n",
      "recall: 0.791155670690908\n",
      "f1 score: 0.8153431663071421\n",
      "roc auc score:  0.9621067030777171\n"
     ]
    }
   ],
   "source": [
    "from sklearn import metrics\n",
    "from sklearn.metrics import confusion_matrix, classification_report\n",
    "\n",
    "\n",
    "disease_labels = [\n",
    "    \"AK\",\n",
    "    \"BCC\",\n",
    "    \"MEL\",\n",
    "    \"SCC\",\n",
    "    \"others\"\n",
    "]\n",
    "\n",
    "\n",
    "def prediction(model, testloader, device):\n",
    "    model.eval()\n",
    "    predictions = []\n",
    "    predictions_prob = []\n",
    "    actual = []\n",
    "    with torch.no_grad():\n",
    "        for images, labels in tqdm(testloader):\n",
    "            images = images.to(device)\n",
    "            labels = labels.to(device)\n",
    "            output = model(images)\n",
    "            output = torch.nn.functional.softmax(output, dim=1)\n",
    "            predictions.append(output.max(dim=1)[1])\n",
    "            actual.append(labels)\n",
    "            predictions_prob.append(output)\n",
    "\n",
    "    actual = torch.concat(actual).cpu()\n",
    "    predictions = torch.concat(predictions).cpu()\n",
    "    predictions_prob = torch.concat(predictions_prob).cpu()\n",
    "\n",
    "    return predictions, predictions_prob, actual\n",
    "\n",
    "\n",
    "# compare predictions with actual labels\n",
    "# using confusion matrix\n",
    "def display_confusion_matrix(predictions, labels):\n",
    "    # convert number labels to disease labels\n",
    "    # labels = [disease_labels[i] for i in labels]\n",
    "    # predictions = [disease_labels[i] for i in predictions]\n",
    "    conf_matrix = confusion_matrix(labels, predictions, labels=[0, 1, 2, 4, 3])\n",
    "    print(conf_matrix)\n",
    "    conf_matrix_norm = confusion_matrix(labels, predictions, normalize=\"true\", labels=[0, 1, 2, 4, 3])\n",
    "    print(conf_matrix_norm)\n",
    "    \n",
    "    conf_matrix_comb = [f\"{perc:0.0f}\\n{num:.2%}\" for perc, num in zip(conf_matrix.flatten(), conf_matrix_norm.flatten())]\n",
    "    conf_matrix_comb = np.asarray(conf_matrix_comb).reshape(5, 5)\n",
    "    \n",
    "    sns.heatmap(\n",
    "        conf_matrix_norm, annot=conf_matrix_comb, fmt=\"\", xticklabels=disease_labels, yticklabels=disease_labels\n",
    "    )\n",
    "    plt.xlabel(\"Predicted\")\n",
    "    plt.ylabel(\"Actual\")\n",
    "    plt.show()\n",
    "\n",
    "\n",
    "predictions, predictions_prob, actual = prediction(model, dataloader[\"test\"], device)\n",
    "\n",
    "display_confusion_matrix(predictions, actual)\n",
    "\n",
    "print(classification_report(actual, predictions, digits=5))\n",
    "\n",
    "# sklearn\n",
    "\n",
    "print(f\"accuracy: {metrics.accuracy_score(actual, predictions)}\")\n",
    "print(f\"precision: {metrics.precision_score(actual, predictions, average='macro')}\")\n",
    "print(f\"recall: {metrics.recall_score(actual, predictions, average='macro')}\")\n",
    "print(f\"f1 score: {metrics.f1_score(actual, predictions, average='macro')}\")\n",
    "\n",
    "# roc auc score\n",
    "\n",
    "roc_auc_score = metrics.roc_auc_score(\n",
    "    actual, predictions_prob, average=\"macro\", multi_class=\"ovr\"\n",
    ")\n",
    "print(\"roc auc score: \", roc_auc_score)"
   ]
  },
  {
   "cell_type": "code",
   "execution_count": null,
   "metadata": {},
   "outputs": [],
   "source": []
  }
 ],
 "metadata": {
  "environment": {
   "kernel": "python3",
   "name": ".m122",
   "type": "gcloud",
   "uri": "us-docker.pkg.dev/deeplearning-platform-release/gcr.io/:m122"
  },
  "kaggle": {
   "accelerator": "nvidiaTeslaT4",
   "dataSources": [
    {
     "datasetId": 5228198,
     "sourceId": 8714424,
     "sourceType": "datasetVersion"
    }
   ],
   "isGpuEnabled": true,
   "isInternetEnabled": true,
   "language": "python",
   "sourceType": "notebook"
  },
  "kernelspec": {
   "display_name": "Python 3",
   "language": "python",
   "name": "python3"
  },
  "language_info": {
   "codemirror_mode": {
    "name": "ipython",
    "version": 3
   },
   "file_extension": ".py",
   "mimetype": "text/x-python",
   "name": "python",
   "nbconvert_exporter": "python",
   "pygments_lexer": "ipython3",
   "version": "3.10.14"
  }
 },
 "nbformat": 4,
 "nbformat_minor": 4
}
